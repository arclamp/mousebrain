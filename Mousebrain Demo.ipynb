{
 "cells": [
  {
   "cell_type": "code",
   "execution_count": 1,
   "metadata": {
    "collapsed": false
   },
   "outputs": [
    {
     "data": {
      "application/javascript": [
       "if (!window.__mousebrain_config) {\n",
       "  require.config({\n",
       "    paths: {\n",
       "      mousebrain: '/files/build/mousebrain'\n",
       "    }\n",
       "  });\n",
       "\n",
       "  window.__mousebrain_config = true;\n",
       "}\n",
       "require(['mousebrain'], function () {}, function (error) {\n",
       "  element.append('<pre>' + error + '</pre>');\n",
       "});\n"
      ]
     },
     "metadata": {},
     "output_type": "display_data"
    }
   ],
   "source": [
    "import pandas\n",
    "import pymousebrain"
   ]
  },
  {
   "cell_type": "code",
   "execution_count": 2,
   "metadata": {
    "collapsed": false
   },
   "outputs": [],
   "source": [
    "data = pandas.read_csv('data/small-data.csv')\n",
    "epoch = pandas.read_csv('data/small-epoch.csv')"
   ]
  },
  {
   "cell_type": "code",
   "execution_count": 3,
   "metadata": {
    "collapsed": false
   },
   "outputs": [],
   "source": [
    "m = pymousebrain.Mousebrain(channelData=data, epochData=epoch, width=960, height=540)\n",
    "m.render()"
   ]
  },
  {
   "cell_type": "code",
   "execution_count": 4,
   "metadata": {
    "collapsed": false
   },
   "outputs": [],
   "source": [
    "m.set_drilldown(600)\n",
    "m.render()"
   ]
  }
 ],
 "metadata": {
  "kernelspec": {
   "display_name": "Python 2",
   "language": "python",
   "name": "python2"
  },
  "language_info": {
   "codemirror_mode": {
    "name": "ipython",
    "version": 2
   },
   "file_extension": ".py",
   "mimetype": "text/x-python",
   "name": "python",
   "nbconvert_exporter": "python",
   "pygments_lexer": "ipython2",
   "version": "2.7.13"
  }
 },
 "nbformat": 4,
 "nbformat_minor": 1
}
